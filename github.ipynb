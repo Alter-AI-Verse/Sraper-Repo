{
 "cells": [
  {
   "cell_type": "markdown",
   "metadata": {},
   "source": [
    "GitHub Scraper"
   ]
  },
  {
   "cell_type": "code",
   "execution_count": 27,
   "metadata": {},
   "outputs": [
    {
     "name": "stdout",
     "output_type": "stream",
     "text": [
      "👻\n",
      "Ranoshis Das\n",
      "RanoshisDas\n",
      "Follow\n",
      "🌝Skills are made by Experiences and Experience made by Failure & Success 🤓\n",
      "4 followers · 7 following\n",
      "kolkata\n",
      "Facebook\n",
      "I.am.ranoshis\n",
      "Instagram\n",
      "ranoshisdas\n",
      "X\n",
      "@ranoshis\n",
      "https://play.google.com/store/apps/dev?id=6693761853693655701\n",
      "Highlights\n",
      "PRO\n",
      "Block or Report\n",
      "Overview\n",
      "Repositories\n",
      "12\n",
      "Projects\n",
      "0\n",
      "Packages\n",
      "0\n",
      "Stars\n",
      "7\n",
      "More\n",
      "Overview\n",
      "Repositories\n",
      "Projects\n",
      "Packages\n",
      "Stars\n"
     ]
    }
   ],
   "source": [
    "from selenium import webdriver\n",
    "from selenium.webdriver.chrome.options import Options\n",
    "from selenium.webdriver.common.by import By\n",
    "from bs4 import BeautifulSoup\n",
    "import time\n",
    "\n",
    "chrome_options = Options()\n",
    "chrome_options.add_experimental_option('detach',True)\n",
    "driver = webdriver.Chrome(options=chrome_options,keep_alive=True)\n",
    "\n",
    "url=\"https://github.com/ranoshisDas/\"\n",
    "driver.get(url)\n",
    "time.sleep(1)\n",
    "\n",
    "pro=driver.find_element(By.XPATH,'//div[@class=\"js-profile-editable-replace\"]')\n",
    "print(pro.text)\n",
    "\n",
    "html=driver.page_source\n",
    "soup=BeautifulSoup(html)\n",
    "li=[]\n",
    "repoCount=soup.find_all('div',class_=\"Layout-main\")[0]\n",
    "print(repoCount.get_text(separator=\"\\n\",strip=True))\n"
   ]
  }
 ],
 "metadata": {
  "kernelspec": {
   "display_name": ".venv",
   "language": "python",
   "name": "python3"
  },
  "language_info": {
   "codemirror_mode": {
    "name": "ipython",
    "version": 3
   },
   "file_extension": ".py",
   "mimetype": "text/x-python",
   "name": "python",
   "nbconvert_exporter": "python",
   "pygments_lexer": "ipython3",
   "version": "3.12.2"
  }
 },
 "nbformat": 4,
 "nbformat_minor": 2
}
