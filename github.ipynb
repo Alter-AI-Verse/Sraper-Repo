{
 "cells": [
  {
   "cell_type": "markdown",
   "metadata": {},
   "source": [
    "GitHub Scraper"
   ]
  },
  {
   "cell_type": "code",
   "execution_count": 1,
   "metadata": {},
   "outputs": [],
   "source": [
    "from selenium import webdriver\n",
    "from selenium.webdriver.chrome.options import Options\n",
    "from webdriver_manager.chrome import ChromeDriverManager\n",
    "from selenium.webdriver.chrome.service import Service\n",
    "from selenium.webdriver.common.by import By\n",
    "from bs4 import BeautifulSoup\n",
    "import time"
   ]
  },
  {
   "cell_type": "code",
   "execution_count": 3,
   "metadata": {},
   "outputs": [],
   "source": [
    "chrome_options = Options()\n",
    "chrome_options.add_experimental_option('detach',True)\n",
    "driver = webdriver.Chrome(options=chrome_options,keep_alive=True)\n",
    "\n",
    "url=\"https://github.com/ranoshisDas/\"\n",
    "driver.get(url)\n",
    "time.sleep(1)\n"
   ]
  },
  {
   "cell_type": "code",
   "execution_count": 4,
   "metadata": {},
   "outputs": [
    {
     "name": "stdout",
     "output_type": "stream",
     "text": [
      "👻\n",
      "Ranoshis Das\n",
      "RanoshisDas\n",
      "Follow\n",
      "🌝Skills are made by Experiences and Experience made by Failure & Success 🤓\n",
      "4 followers · 7 following\n",
      "kolkata\n",
      "Facebook\n",
      "I.am.ranoshis\n",
      "Instagram\n",
      "ranoshisdas\n",
      "X\n",
      "@ranoshis\n",
      "https://play.google.com/store/apps/dev?id=6693761853693655701\n",
      "Highlights\n",
      "PRO\n",
      "Block or Report\n"
     ]
    }
   ],
   "source": [
    "pro=driver.find_element(By.XPATH,'//div[@class=\"js-profile-editable-replace\"]')\n",
    "print(pro.text)"
   ]
  },
  {
   "cell_type": "code",
   "execution_count": 6,
   "metadata": {},
   "outputs": [
    {
     "data": {
      "text/plain": [
       "[<span class=\"Counter\" data-view-component=\"true\" title=\"12\">12</span>,\n",
       " <span class=\"Counter\" data-view-component=\"true\" hidden=\"hidden\" title=\"0\">0</span>,\n",
       " <span class=\"Counter\" data-view-component=\"true\" hidden=\"hidden\" title=\"0\">0</span>,\n",
       " <span class=\"Counter\" data-view-component=\"true\" title=\"7\">7</span>,\n",
       " <span class=\"Counter\" data-view-component=\"true\" title=\"12\">12</span>,\n",
       " <span class=\"Counter\" data-view-component=\"true\" hidden=\"hidden\" title=\"0\">0</span>,\n",
       " <span class=\"Counter\" data-view-component=\"true\" hidden=\"hidden\" title=\"0\">0</span>,\n",
       " <span class=\"Counter\" data-view-component=\"true\" title=\"7\">7</span>]"
      ]
     },
     "execution_count": 6,
     "metadata": {},
     "output_type": "execute_result"
    }
   ],
   "source": [
    "html=driver.page_source\n",
    "soup=BeautifulSoup(html)\n",
    "\n",
    "repoCount=soup.find_all('span',class_=\"Counter\")\n",
    "repoCount"
   ]
  }
 ],
 "metadata": {
  "kernelspec": {
   "display_name": ".venv",
   "language": "python",
   "name": "python3"
  },
  "language_info": {
   "codemirror_mode": {
    "name": "ipython",
    "version": 3
   },
   "file_extension": ".py",
   "mimetype": "text/x-python",
   "name": "python",
   "nbconvert_exporter": "python",
   "pygments_lexer": "ipython3",
   "version": "3.12.2"
  }
 },
 "nbformat": 4,
 "nbformat_minor": 2
}
