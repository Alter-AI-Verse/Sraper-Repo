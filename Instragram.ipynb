{
 "cells": [
  {
   "cell_type": "code",
   "execution_count": 30,
   "metadata": {},
   "outputs": [
    {
     "name": "stdout",
     "output_type": "stream",
     "text": [
      "ranoshisdas\n",
      "Follow\n",
      "Message\n",
      "102 posts\n",
      "392 followers\n",
      "108 following\n",
      "Ranoshis Das\n",
      "ranoshisdas\n",
      "🇮🇳Indian🇮🇳\n",
      "chess & coding\n",
      "android developer\n",
      "🤍 আমি বাঙ্গালী🤍\n",
      "🚩San... \n",
      "more\n",
      "youtube.com/c/PATIRAMHIGHSCHOOL + 1\n"
     ]
    }
   ],
   "source": [
    "from selenium import webdriver\n",
    "from selenium.webdriver.chrome.options import Options\n",
    "from selenium.webdriver.common.by import By\n",
    "from bs4 import BeautifulSoup\n",
    "import time\n",
    "\n",
    "chrome_options = Options()\n",
    "chrome_options.add_experimental_option('detach',True)\n",
    "driver = webdriver.Chrome(options=chrome_options,keep_alive=True)\n",
    "\n",
    "url=\"https://www.instagram.com/ranoshisdas/\"\n",
    "driver.get(url)\n",
    "time.sleep(5)\n",
    "bio=driver.find_element(By.XPATH,\"//header\")\n",
    "print(bio.text)"
   ]
  }
 ],
 "metadata": {
  "kernelspec": {
   "display_name": ".venv",
   "language": "python",
   "name": "python3"
  },
  "language_info": {
   "codemirror_mode": {
    "name": "ipython",
    "version": 3
   },
   "file_extension": ".py",
   "mimetype": "text/x-python",
   "name": "python",
   "nbconvert_exporter": "python",
   "pygments_lexer": "ipython3",
   "version": "3.12.2"
  }
 },
 "nbformat": 4,
 "nbformat_minor": 2
}
