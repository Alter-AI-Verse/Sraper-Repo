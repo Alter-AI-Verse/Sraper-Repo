{
 "cells": [
  {
   "cell_type": "markdown",
   "metadata": {},
   "source": [
    "LinkedIn Scraper"
   ]
  },
  {
   "cell_type": "code",
   "execution_count": 4,
   "metadata": {},
   "outputs": [],
   "source": [
    "from selenium import webdriver\n",
    "from selenium.webdriver.chrome.options import Options\n",
    "from webdriver_manager.chrome import ChromeDriverManager\n",
    "from selenium.webdriver.chrome.service import Service\n",
    "from selenium.webdriver.common.by import By\n",
    "from bs4 import BeautifulSoup\n",
    "import time"
   ]
  },
  {
   "cell_type": "code",
   "execution_count": 32,
   "metadata": {},
   "outputs": [
    {
     "name": "stdout",
     "output_type": "stream",
     "text": [
      "empty list 7\n",
      "empty list 9\n"
     ]
    },
    {
     "ename": "IndexError",
     "evalue": "list index out of range",
     "output_type": "error",
     "traceback": [
      "\u001b[0;31m---------------------------------------------------------------------------\u001b[0m",
      "\u001b[0;31mIndexError\u001b[0m                                Traceback (most recent call last)",
      "Cell \u001b[0;32mIn[32], line 51\u001b[0m\n\u001b[1;32m     47\u001b[0m time\u001b[38;5;241m.\u001b[39msleep(\u001b[38;5;241m4\u001b[39m)\n\u001b[1;32m     49\u001b[0m driver\u001b[38;5;241m.\u001b[39mfind_element(By\u001b[38;5;241m.\u001b[39mID,clss)\u001b[38;5;241m.\u001b[39mclick()\n\u001b[0;32m---> 51\u001b[0m more_div\u001b[38;5;241m=\u001b[39m\u001b[43msoup\u001b[49m\u001b[38;5;241;43m.\u001b[39;49m\u001b[43mfind_all\u001b[49m\u001b[43m(\u001b[49m\u001b[38;5;124;43m\"\u001b[39;49m\u001b[38;5;124;43mdiv\u001b[39;49m\u001b[38;5;124;43m\"\u001b[39;49m\u001b[43m,\u001b[49m\u001b[43mclass_\u001b[49m\u001b[38;5;241;43m=\u001b[39;49m\u001b[38;5;124;43m\"\u001b[39;49m\u001b[38;5;124;43martdeco-dropdown__content-inner\u001b[39;49m\u001b[38;5;124;43m\"\u001b[39;49m\u001b[43m)\u001b[49m\u001b[43m[\u001b[49m\u001b[38;5;241;43m1\u001b[39;49m\u001b[43m]\u001b[49m\n\u001b[1;32m     52\u001b[0m \u001b[38;5;28mid\u001b[39m\u001b[38;5;241m=\u001b[39mmore_div\u001b[38;5;241m.\u001b[39mfind_all(\u001b[38;5;124m'\u001b[39m\u001b[38;5;124mdiv\u001b[39m\u001b[38;5;124m'\u001b[39m)[\u001b[38;5;241m1\u001b[39m]\u001b[38;5;241m.\u001b[39mget_attribute_list(\u001b[38;5;124m'\u001b[39m\u001b[38;5;124mid\u001b[39m\u001b[38;5;124m'\u001b[39m)\n\u001b[1;32m     53\u001b[0m driver\u001b[38;5;241m.\u001b[39mfind_element(By\u001b[38;5;241m.\u001b[39mID,\u001b[38;5;28mid\u001b[39m[\u001b[38;5;241m0\u001b[39m])\u001b[38;5;241m.\u001b[39mclick()\n",
      "\u001b[0;31mIndexError\u001b[0m: list index out of range"
     ]
    }
   ],
   "source": [
    "chrome_options = Options()\n",
    "chrome_options.add_experimental_option('detach',True)\n",
    "driver = webdriver.Chrome(options=chrome_options,keep_alive=True)\n",
    "\n",
    "userName=\"personasudogeeks@gmail.com\"\n",
    "passWord=\"RanoshisTester@2025\"\n",
    "url='https://www.linkedin.com/login'\n",
    "url1='https://www.linkedin.com/in/ranoshis-das/'\n",
    "\n",
    "driver.get(url)\n",
    "driver.find_element(By.ID,'username').send_keys(userName)\n",
    "driver.find_element(By.ID,'password').send_keys(passWord)\n",
    "time.sleep(1)\n",
    "driver.find_element(By.XPATH,'//button[@class=\"btn__primary--large from__button--floating\"]').click()\n",
    "time.sleep(1)\n",
    "driver.get(url1)\n",
    "\n",
    "html=driver.page_source\n",
    "soup=BeautifulSoup(html)\n",
    "\n",
    "button=soup.find_all('button')\n",
    "t=-1\n",
    "next=0\n",
    "for i in button:\n",
    "    t+=1\n",
    "    re=str(i.text).split()\n",
    "    try:\n",
    "        if(re[0]=='Message'):\n",
    "            print('was here',t)\n",
    "            next=1\n",
    "            continue\n",
    "        if(next==1):    \n",
    "            if(re[0]=='More'):\n",
    "                print('found',t)\n",
    "                break\n",
    "        else:\n",
    "            next=0\n",
    "    except:\n",
    "        print('empty list',t)\n",
    "        \n",
    "        more=soup.find_all('button')[t].get_attribute_list('id')\n",
    "more\n",
    "clss=\"\"\n",
    "for i in more:\n",
    "    clss+=(i)\n",
    "clss\n",
    "time.sleep(4)\n",
    "\n",
    "driver.find_element(By.ID,clss).click()\n",
    "\n",
    "more_div=soup.find_all(\"div\",class_=\"artdeco-dropdown__content-inner\")[1]\n",
    "id=more_div.find_all('div')[1].get_attribute_list('id')\n",
    "driver.find_element(By.ID,id[0]).click()\n"
   ]
  },
  {
   "cell_type": "markdown",
   "metadata": {},
   "source": [
    "**Below code may not needed**"
   ]
  },
  {
   "cell_type": "code",
   "execution_count": 28,
   "metadata": {},
   "outputs": [],
   "source": [
    "name=driver.find_element(By.XPATH,'//h1').text\n",
    "bio=driver.find_element(By.XPATH,'//div[@class=\"text-body-medium break-words\"]').text\n",
    "about= soup.find_all('span',class_=\"visually-hidden\")[7].text"
   ]
  },
  {
   "cell_type": "code",
   "execution_count": 29,
   "metadata": {},
   "outputs": [
    {
     "name": "stdout",
     "output_type": "stream",
     "text": [
      "Ranoshis Das\n",
      "____________\n",
      "Loves Tech innovations || android developer & full stack developer || Founder of The Vinayak Tech♦\n",
      "\n"
     ]
    }
   ],
   "source": [
    "print(name+\"\\n\"+\n",
    "      \"____________\\n\"+bio+\"\\n\"+\n",
    "      \"____________\\n\"+about+\"\\n\"\n",
    "      \"____________\\n\")"
   ]
  }
 ],
 "metadata": {
  "kernelspec": {
   "display_name": "Python 3",
   "language": "python",
   "name": "python3"
  },
  "language_info": {
   "codemirror_mode": {
    "name": "ipython",
    "version": 3
   },
   "file_extension": ".py",
   "mimetype": "text/x-python",
   "name": "python",
   "nbconvert_exporter": "python",
   "pygments_lexer": "ipython3",
   "version": "3.12.2"
  }
 },
 "nbformat": 4,
 "nbformat_minor": 2
}
