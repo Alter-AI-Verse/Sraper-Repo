{
 "cells": [
  {
   "cell_type": "markdown",
   "metadata": {},
   "source": [
    "LinkedIn Scraper"
   ]
  },
  {
   "cell_type": "code",
   "execution_count": 1,
   "metadata": {},
   "outputs": [],
   "source": [
    "from selenium import webdriver\n",
    "from selenium.webdriver.chrome.options import Options\n",
    "from webdriver_manager.chrome import ChromeDriverManager\n",
    "from selenium.webdriver.chrome.service import Service\n",
    "from selenium.webdriver.common.by import By\n",
    "from bs4 import BeautifulSoup\n",
    "import time"
   ]
  },
  {
   "cell_type": "code",
   "execution_count": 3,
   "metadata": {},
   "outputs": [
    {
     "name": "stdout",
     "output_type": "stream",
     "text": [
      "was here 9\n",
      "empty list 10\n",
      "was here 14\n",
      "found 16\n"
     ]
    }
   ],
   "source": [
    "chrome_options = Options()\n",
    "chrome_options.add_experimental_option('detach',True)\n",
    "driver = webdriver.Chrome(options=chrome_options,keep_alive=True)\n",
    "\n",
    "userName=\"personasudogeeks@gmail.com\"\n",
    "passWord=\"RanoshisTester@2025\"\n",
    "url='https://www.linkedin.com/login'\n",
    "url1='https://www.linkedin.com/in/debasis-khamari-/'\n",
    "\n",
    "driver.get(url)\n",
    "driver.find_element(By.ID,'username').send_keys(userName)\n",
    "driver.find_element(By.ID,'password').send_keys(passWord)\n",
    "time.sleep(1)\n",
    "driver.find_element(By.XPATH,'//button[@class=\"btn__primary--large from__button--floating\"]').click()\n",
    "time.sleep(2)\n",
    "driver.get(url1)\n",
    "\n",
    "html=driver.page_source\n",
    "soup=BeautifulSoup(html)\n",
    "\n",
    "button=soup.find_all('button')\n",
    "t=-1\n",
    "next=0\n",
    "for i in button:\n",
    "    t+=1\n",
    "    re=str(i.text).split()\n",
    "    try:\n",
    "        if(re[0]=='Message'):\n",
    "            print('was here',t)\n",
    "            next=1\n",
    "            continue\n",
    "        if(next==1):    \n",
    "            if(re[0]=='More'):\n",
    "                print('found',t)\n",
    "                break\n",
    "        else:\n",
    "            next=0\n",
    "    except:\n",
    "        print('empty list',t)\n",
    "        \n",
    "time.sleep(1)\n",
    "more=soup.find_all('button')[t].get_attribute_list('id')\n",
    "more\n",
    "clss=\"\"\n",
    "for i in more:\n",
    "    clss+=(i)\n",
    "\n",
    "time.sleep(1)\n",
    "driver.find_element(By.ID,clss).click()\n",
    "time.sleep(3)\n",
    "more_div=soup.find_all(\"div\",class_=\"artdeco-dropdown__content-inner\")[1]\n",
    "id=more_div.find_all('div')[1].get_attribute_list('id')\n",
    "driver.find_element(By.ID,id[0]).click()"
   ]
  },
  {
   "cell_type": "markdown",
   "metadata": {},
   "source": [
    "**Below code may not needed**"
   ]
  },
  {
   "cell_type": "code",
   "execution_count": 14,
   "metadata": {},
   "outputs": [],
   "source": [
    "name=driver.find_element(By.XPATH,'//h1').text\n",
    "bio=driver.find_element(By.XPATH,'//div[@class=\"text-body-medium break-words\"]').text\n",
    "about= soup.find_all('span',class_=\"visually-hidden\")[7].text"
   ]
  },
  {
   "cell_type": "code",
   "execution_count": 15,
   "metadata": {},
   "outputs": [
    {
     "name": "stdout",
     "output_type": "stream",
     "text": [
      "Ranoshis Das\n",
      "____________\n",
      "Loves new Tech || android development & full stack developer || Member of GDSC(BWU) & Google Developer Group ♦\n",
      "____________\n",
      "🚀 Passionate about Tech & there applications || Full Stack Developer | Fast Learner | Perfectionist 🌟\n",
      "\n",
      "🔗 Github: github.com/RanoshisDas\n",
      "\n",
      "📧 Email: ranoshisdas@gmail.com\n",
      "\n",
      "💡 Love computer science and new tech ⁉️ \n",
      " So do I❕ \n",
      "\n",
      "🔍 Curious about how things work and eager to build something amazing? \n",
      "That's my type ! 🛠️\n",
      "\n",
      "🔥 Fast learner? Check. ✅\n",
      "⚡️Perfectionist with high attention to detail? Double check. 💯\n",
      "\n",
      "🧠 Passionate about Android/IOS/Web Application, machine learning, and AI? \n",
      "Count me in! 🤖\n",
      "\n",
      "💻 Experience in both frontend and backend development? HTML, CSS, xml, Python, Java, Spring boot, C, C++, PHP, MySQL – you name it, I've got it! 🌐\n",
      "\n",
      "⚙️ Worked with aws, Android Studio, Firebase, Git/Github  ! 🛠️\n",
      "\n",
      "🎨 Love turning ideas into projects and implementing them? \n",
      "It's my passion, and I enjoy every step of the process! 💡\n",
      "\n",
      "🚀 Let's Connect:\n",
      "If you're as passionate about computer science and technology as I am, let's connect! Whether it's discussing the latest AI breakthroughs, collaborating on exciting projects, or simply exchanging ideas, I'm all in! Let's inspire and innovate together! 🚀\n",
      "\n",
      "🌝Skills are made by Experiences and Experience made by Failure & Success 🤓\n",
      "____________\n",
      "\n"
     ]
    }
   ],
   "source": [
    "print(name+\"\\n\"+\n",
    "      \"____________\\n\"+bio+\"\\n\"+\n",
    "      \"____________\\n\"+about+\"\\n\"\n",
    "      \"____________\\n\")"
   ]
  }
 ],
 "metadata": {
  "kernelspec": {
   "display_name": "Python 3",
   "language": "python",
   "name": "python3"
  },
  "language_info": {
   "codemirror_mode": {
    "name": "ipython",
    "version": 3
   },
   "file_extension": ".py",
   "mimetype": "text/x-python",
   "name": "python",
   "nbconvert_exporter": "python",
   "pygments_lexer": "ipython3",
   "version": "3.12.2"
  }
 },
 "nbformat": 4,
 "nbformat_minor": 2
}
