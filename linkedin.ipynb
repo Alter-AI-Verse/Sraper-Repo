{
 "cells": [
  {
   "cell_type": "markdown",
   "metadata": {},
   "source": [
    "LinkedIn Scraper"
   ]
  },
  {
   "cell_type": "code",
   "execution_count": 65,
   "metadata": {},
   "outputs": [],
   "source": [
    "from selenium import webdriver\n",
    "from selenium.webdriver.chrome.options import Options\n",
    "from selenium.webdriver.common.by import By\n",
    "from bs4 import BeautifulSoup\n",
    "import time\n",
    "import os"
   ]
  },
  {
   "cell_type": "code",
   "execution_count": 68,
   "metadata": {},
   "outputs": [],
   "source": [
    "def Scrap_LinkedIn(url1):\n",
    "    chrome_options = Options()\n",
    "    download_path = os.path.abspath(\"./download\")\n",
    "    os.makedirs(download_path, exist_ok=True)\n",
    "    chrome_options = webdriver.ChromeOptions()\n",
    "    chrome_options.add_argument('--headless')\n",
    "    prefs = {\n",
    "    \"download.default_directory\": download_path,  # Set relative download path\n",
    "    \"download.prompt_for_download\": False,  # Disable download prompt\n",
    "    \"download.directory_upgrade\": True,\n",
    "    \"safebrowsing.enabled\": True\n",
    "    }\n",
    "    chrome_options.add_experimental_option(\"prefs\", prefs)\n",
    "\n",
    "    chrome_options.add_experimental_option('detach',True)\n",
    "    driver = webdriver.Chrome(options=chrome_options,keep_alive=True)\n",
    "\n",
    "    userName=\"personasudogeeks@gmail.com\"\n",
    "    passWord=\"RanoshisTester@2025\"\n",
    "    url='https://www.linkedin.com/login'\n",
    "\n",
    "\n",
    "    driver.get(url)\n",
    "    driver.find_element(By.ID,'username').send_keys(userName)\n",
    "    driver.find_element(By.ID,'password').send_keys(passWord)\n",
    "    time.sleep(1)\n",
    "    driver.find_element(By.XPATH,'//button[@class=\"btn__primary--large from__button--floating\"]').click()\n",
    "    time.sleep(1)\n",
    "    driver.get(url1)\n",
    "    time.sleep(5)\n",
    "    html=driver.page_source\n",
    "    soup=BeautifulSoup(html)\n",
    "    button=driver.find_element(By.XPATH, \"/html/body/div[6]/div[3]/div/div/div[2]/div/div/main/section[1]/div[2]/div[3]/div/div[2]/button/span\")\n",
    "    button.click()\n",
    "\n",
    "    time.sleep(2)\n",
    "\n",
    "    button=driver.find_element(By.XPATH, \"/html/body/div[6]/div[3]/div/div/div[2]/div/div/main/section[1]/div[2]/div[3]/div/div[2]/div/div/ul/li[2]/div/span\")\n",
    "    button.click()\n"
   ]
  },
  {
   "cell_type": "code",
   "execution_count": 69,
   "metadata": {},
   "outputs": [],
   "source": [
    "url1=\"https://www.linkedin.com/in/dr-subhrendu-guha-neogi-16b6ba12/\"\n",
    "Scrap_LinkedIn(url1)\n"
   ]
  }
 ],
 "metadata": {
  "kernelspec": {
   "display_name": "Python 3",
   "language": "python",
   "name": "python3"
  },
  "language_info": {
   "codemirror_mode": {
    "name": "ipython",
    "version": 3
   },
   "file_extension": ".py",
   "mimetype": "text/x-python",
   "name": "python",
   "nbconvert_exporter": "python",
   "pygments_lexer": "ipython3",
   "version": "3.12.2"
  }
 },
 "nbformat": 4,
 "nbformat_minor": 2
}
